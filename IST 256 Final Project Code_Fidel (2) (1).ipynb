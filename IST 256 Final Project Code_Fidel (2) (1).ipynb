{
 "cells": [
  {
   "cell_type": "code",
   "execution_count": 1,
   "metadata": {},
   "outputs": [
    {
     "name": "stdout",
     "output_type": "stream",
     "text": [
      "Enter the season below\n",
      "2020\n"
     ]
    }
   ],
   "source": [
    "#2020-21 NBA PLAYER INDEX/COMPARISON TOOL, A PROGRAM BY FIDEL RIVERA\n",
    "\n",
    "#INSTALLS\n",
    "\n",
    "#!pip install nba_api #API for lots of useful nba data.\n",
    "#!pip install wikipedia #API for lots of useful data about the individual. We use this to pull up a player description of the NBA Player inputted by the User\n",
    "#!pip install lxml #\"Python library which allows for easy handling of XML and HTML files, and can also be used for web scraping.\"\n",
    "\n",
    "#IMPORTS\n",
    "\n",
    "import requests #\"allows you to send HTTP requests using Python. The HTTP request returns a Response Object with all the response data (content, encoding, status, etc).\"\n",
    "import bs4 #\"Beautiful Soup is a Python library for pulling data out of HTML and XML files.\"\n",
    "from bs4 import BeautifulSoup\n",
    "import wikipedia #\"Wikipedia is a Python library that makes it easy to access and parse data from Wikipedia. Search Wikipedia, get article summaries, get data like links and images from a page, and more. Wikipedia wraps the MediaWiki API so you can focus on using Wikipedia data, not getting it.\"\n",
    "import pandas as pd #\"pandas is a popular Python-based data analysis toolkit which can be imported using import pandas as pd . It presents a diverse range of utilities, ranging from parsing multiple file formats to converting an entire data table into a NumPy matrix array.\"\n",
    "from urllib.request import urlopen #After doing a little bit of research i found this could be pretty useful for web scraping, it allows us to actually open URL's.\n",
    "\n",
    "#FUNCTIONS\n",
    "print(\"Enter the season below\")\n",
    "szn =  input() #int(input(\"Enter a Year: \")) #This is the season we will be analyzing. This is pretty cool because I can switch this to any year and it will give me the stats for that season.\n",
    "url = \"https://www.basketball-reference.com/leagues/NBA_{}_per_game.html\".format(szn) #This link is where we will be web scraping from. I decided to web scrape rather than use a CVS file, because NBA statistic are dynamic and alawys changing.\n",
    "html = urlopen(url) # this is the HTML from the given URL\n",
    "soup = BeautifulSoup(html) # this function is what scrapes through our URL, to turn it into something we can actually use.\n",
    "soup.findAll('tr', limit=2) #the findall function is what allows us to get the column headers. We need these to better organize and understand the data.\n",
    "headers = [th.getText() for th in soup.findAll('tr', limit=2)[0].findAll('th')] # the getText() function allows us to take the text we need from the URL and put it into a list\n",
    "headers = headers[1:] # 1: gets rid of the first column. The \"ranking order\" is unnecessary and irelevant for us.\n",
    "headers\n",
    "rows = soup.findAll('tr')[1:] # we again are skipping past the \"rankings\" column and the firt row\n",
    "player_stats = [[td.getText() for td in rows[i].findAll('td')]\n",
    "            for i in range(len(rows))]\n",
    "df = pd.DataFrame(player_stats, columns = headers) #THIS IS WHAT ALLOWS US TO CREATE THE DATA FRAME\n",
    "df['Player'] = df['Player'].str.replace(\"*\",\"\")\n",
    "\n",
    " #SHOWS US THE TOP 10 ROWS IN THE DATA FRAME\n",
    "#ray_allen_frame = df[df['Player']== 'Ray Allen*']\n",
    "#ray_allen_frame\n",
    "\n",
    "#ray_allen_frame_total = ray_allen_frame[ray_allen_frame['Tm'] == 'TOT']\n",
    "#ray_allen_frame_total"
   ]
  },
  {
   "cell_type": "code",
   "execution_count": null,
   "metadata": {},
   "outputs": [],
   "source": [
    "df.head(10)"
   ]
  },
  {
   "cell_type": "code",
   "execution_count": 3,
   "metadata": {},
   "outputs": [
    {
     "name": "stdout",
     "output_type": "stream",
     "text": [
      "Enter the name of the player you want to check bibliography\n",
      "Damian Lillard\n",
      "Damian Lamonte Ollie Lillard Sr. (born July 15, 1990) is an American professional basketball player for the Portland Trail Blazers of the National Basketball Association (NBA). He played college basketball for the Weber State Wildcats and earned third-team All-American honors in 2012. After being selected by Portland with the sixth overall pick in the 2012 NBA draft, Lillard was unanimously voted the NBA Rookie of the Year. Nicknamed \"Dame Time\", he has received six NBA All-Star selections and is one of two players in Trail Blazers franchise history, along with Clyde Drexler, to become a six-time All-Star.\n",
      "\n",
      "\n",
      "== High school career ==\n",
      "Lillard began his high school career at Arroyo High School in San Lorenzo, California, and joined the varsity starting lineup as a 5 ft 5 in (1.65 m) freshman. He sought to transfer when his coach did not return to the team. For his sophomore year, Lillard transferred to St. Joseph Notre Dame High School in Alameda, California, the same private school that had produced former NBA point guard Jason Kidd; but by year's end, a lack of playing time prompted Lillard to transfer schools yet again. He went on to play for coach Orlando Watkins at Oakland High School, where he was First Team All-League his junior and senior years. Over his junior campaign, Lillard averaged 19.4 points a night. As a senior, he averaged 22.4 points and 5.2 assists per game while leading the Oakland Wildcats to a 23–9 record.Regarded only as a two-star prospect by Rivals.com, Lillard was not heavily recruited out of high school, but he accepted a scholarship offer to play for Weber State, a Big Sky Conference program in Ogden, Utah.\n",
      "\n",
      "\n",
      "== College career ==\n",
      "As a freshman at Weber State, Lillard averaged 11.5 points per game and was named the Big Sky Conference Freshman of the Year and first-team All-Big Sky. In his sophomore year, he raised his scoring average to 19.9 points per game and led the Wildcats to the conference championship. At the end of the season, Lillard was named Big Sky Player of the Year as well as honorable mention All-American by the Associated Press.In 2010–11, Lillard led the Big Sky in scoring with 19.7 points per contest before suffering a foot injury ten games into the season that forced him to take a medical redshirt and sidelined him for the rest of the year.As a redshirt junior, Lillard averaged 24.5 points and led the nation in scoring throughout most of the year but ended up finishing second to Oakland University's Reggie Hamilton. On December 3, 2011, against San Jose State, Lillard scored a college career-high 41 points, including a game-clinching three-point play to give Weber State a 91–89 double-overtime win. At the end of the year, he was named to his third first-team all-conference selection and won his second Big Sky Player of the Year award. Lillard was also a finalist for the Bob Cousy Award.Widely regarded as the top point guard prospect in the country, Lillard decided to skip his senior season to enter the 2012 NBA draft. He finished his college career as the No. 2 scorer in Weber State history (1,934 points) and the No. 5 scorer in Big Sky history.\n",
      "\n",
      "\n",
      "== Professional career ==\n",
      "\n",
      "\n",
      "=== Portland Trail Blazers (2012–present) ===\n",
      "\n",
      "\n",
      "==== 2012–13 season: Rookie of the Year ====\n",
      "\n",
      "Lillard was selected with the sixth overall pick in the 2012 NBA draft by the Portland Trail Blazers. In the season opener against the Los Angeles Lakers on October 31, Lillard recorded 23 points and 11 assists to join Oscar Robertson and Allen Iverson as the only players in NBA history with at least 20 points and 10 assists in their NBA debut. In addition, his 11 assists were the most by an NBA rookie in his first game since Jason Kidd (11) in 1994, and the most ever by a Trail Blazer in his NBA debut. Lillard made a career-high 15 field goals and a Trail Blazer rookie-record seven 3-pointers on January 11 against the Golden State Warriors, where he finished with 37 points, six rebounds, and four assists. He became the first Trail Blazer to win an event at the NBA All-Star Weekend, winning the Skills Challenge. He also participated in the Rising Stars Challenge during All-Star weekend and finished with 18 points, three rebounds and five assists in a game-high 28 minutes. Lillard became the first NBA rookie to record 35 points, nine assists and zero turnovers in a game since turnovers became a stat in 1978–79 against the San Antonio Spurs on March 8. On April 10 against the Lakers, Lillard scored a season-high 38 points. He earned Western Conference Rookie of the Month honors for every month, becoming one of just eight players to sweep NBA Rookie of the Month honors since the inaugural award in 1981–82. He finished fifth in the NBA in 3-pointers made, 12th in points per game, tied for 16th in assists per game and tied for 23rd in free throw percentage. He was one of 10 NBA players to score 1,500 points, and he led all rookies in scoring (19.0 ppg), assists (6.5 apg), field goals (553) and free throws (271).With averages of 19.0 points, 3.1 rebounds, 6.5 assists, 0.90 steals, and 38.6 minutes in 82 games (all starting), Lillard not only claimed the NBA Rookie of the Year Award but joined Blake Griffin (2011), David Robinson (1990), and Ralph Sampson (1984) as the only unanimous winners. He also joined Oscar Robertson and Allen Iverson as the only rookies in NBA history to tally in excess of 1,500 points and 500 assists for a season. Lillard became the fourth Trail Blazer in franchise history to win NBA Rookie of the Year honors and one of two to ever finish a season with at least 1,500 points and 500 assists (the other being Clyde Drexler in 1986–87 and 1991–92). Among other distinctions, he broke the all-time NBA rookie record for 3-pointers in a season (185), surpassing Stephen Curry's 166 3-pointers in 2009–10; became the Portland franchise leader for most 3-point field goals in a season, breaking Damon Stoudamire's record of 181 in 2004–05; and became the first rookie to lead the NBA in total minutes played (3,167) since Elvin Hayes in 1968–69.\n",
      "\n",
      "\n",
      "==== 2013–14 season: First All-Star selection ====\n",
      "In the season opener on October 30, Lillard scored 32 points against the Phoenix Suns. He had a second 32-point effort on December 7 against the Dallas Mavericks. On December 17, he had 36 points, 10 assists, and eight rebounds against the Cleveland Cavaliers. The following day, he had a second straight 36-point effort against the Minnesota Timberwolves. On January 7, in a 123–119 loss to the Sacramento Kings, Lillard scored a career-high 41 points, including 26 in the fourth quarter to break Portland's franchise record for most points in any quarter. On February 7, he had a 38-point effort against the Indiana Pacers. During All-Star weekend, Lillard became the first player in NBA history to take part in five events during the All-Star festivities: the Rising Stars Challenge, Skills Challenge, Three-Point Contest, Slam Dunk Contest, and the All-Star Game.Lillard started all 82 games for the second straight year and averaged 20.7 points, 5.6 assists and 3.5 rebounds per game. Portland finished fifth in the Western Conference with a 54–28 record and faced the Houston Rockets in the first round of the 2014 NBA playoffs. In Game 1 of the series, Lillard recorded 31 points and nine rebounds in his first playoff appearance to help propel Portland to a 122–120 overtime win over Houston. In Game 6 of the series, Lillard became the first player to make a buzzer-beating shot to win a playoff series since Utah's John Stockton against Houston in 1997. Lillard's 3-pointer as time expired gave Portland a 99–98 victory over Houston, as he finished with 25 points to lift the Trail Blazers to their first playoff series win since 2000. The Trail Blazers went on to lose in five games to the San Antonio Spurs in the second round. Lillard had a series-best game in Game 4 with a 25-point effort, helping the Trail Blazers win their sole game of the series. At the season's end, Lillard was named to the All-NBA Third Team.\n",
      "\n",
      "\n",
      "==== 2014–15 season ====\n",
      "For the third straight season, Lillard started all 82 games for the Trail Blazers. He averaged career highs in points, rebounds, steals, and field goal percentage, but averaged a career-low 34 percent from three-point range. He shot well during the first two months of the season, before struggling with his shot from January onwards. Despite this, he set the record for most three-pointers in a player's first three seasons, led the team in Win Shares, and finished second in PER. On December 19, 2014, he scored a career-high 43 points in a 129–119 triple-overtime win over the San Antonio Spurs. Four days later, he had a 40-point effort against the Oklahoma City Thunder. On January 5, 2015, he had a 39-point effort against the Los Angeles Lakers. On February 8, 2015, Lillard was selected as a replacement for the injured Blake Griffin in the 2015 NBA All-Star Game. On March 4, 2015, Lillard recorded a career-high 18 rebounds in a 98-93 win over the Los Angeles Clippers. The Trail Blazers finished the regular season as the fourth seed in the Western Conference with a 51–31 record. They faced the Memphis Grizzlies in the first round of the playoffs, where they lost in five games. Lillard shot 16 percent from three-point range during the series, hitting just 5-of-31 including going 0-of-6 in Game 1.\n",
      "\n",
      "\n",
      "==== 2015–16 season: All-NBA 2nd Team Selection ====\n",
      "\n",
      "On July 9, 2015, Lillard signed a five-year, $120 million contract extension with the Trail Blazers. On October 28, 2015, Lillard recorded 21 points and 11 assists in a season-opening win over the New Orleans Pelicans. His one three-pointer made during the game was his 600th career three-point field goal, making him the fastest NBA player in history to reach the mark at 247 games. In addition, Lillard's 11 assists gave him 1,500 for his career, making him the fastest Trail Blazer to reach the milestone since Terry Porter (1987–88 season, 215 games). In the following game on October 30 against the Phoenix Suns, Lillard became the fastest player to reach 5,000 points and 1,500 assists (248 games) since Derrick Rose (240 games).On December 12, in a loss to the New York Knicks, Lillard became the first Blazer since Clyde Drexler in 1991–92 to record 600 points and 150 assists during the team's first 25 games. On December 21, Lillard missed the first game of his career with plantar fasciitis in his left foot, ending his streak of playing in 275 consecutive games. Backcourt partner C. J. McCollum also missed the game, leaving the Trail Blazers without their two leading scorers to face the Atlanta Hawks, subsequently losing the game 106–97. He missed a further six games with the injury, returning to action on January 4 against the Memphis Grizzlies and recording 17 points and 7 assists in a 91–78 loss. On January 8, he scored a then season-high 40 points in a loss to the Golden State Warriors. On January 18, in a win over the Washington Wizards, he hit his 2,000th NBA field goal, one of only eight players to reach that mark since he entered the league in 2012–13. On January 26, in a win over the Sacramento Kings, Lillard recorded 15 points and 13 assists for his 10th double-double of the season, a career high. On February 19, he scored a career-high 51 points in a 137–105 win over the Golden State Warriors. He became the first player in NBA history to have at least 50 points, seven assists and six steals since the steal became an official statistic in 1973–74. Two days later, he scored 30 points against the Utah Jazz, becoming the first Blazer to score at least 30 points in four consecutive games since Drexler accomplished the feat in 1991. He extended that streak to five in the team's following game on February 23 against the Brooklyn Nets. Over his first 300 games in the NBA, Lillard averaged 21.2 points and 6.2 assists per game. Only four other players in NBA history averaged 21 points and six assists over their first 300 games: Oscar Robertson (30.2 and 10.3), Nate Archibald (24.5 and 8.4), LeBron James (26.7 and 6.4) and Dwyane Wade (24.0 and 6.4). On March 4, he had his second 50-point game of the season in a 117–115 loss to the Toronto Raptors.On March 8, Lillard had 41 points and 11 assists in a 116–109 overtime win over the Washington Wizards, recording his 15th straight game with 20-plus points. He also had his 400th assist of the season, making him the first Trail Blazer with 400-plus assists in each of his first four seasons. In the Trail Blazers' season finale on April 13 against the Denver Nuggets, Lillard hit his 827th career three-pointer, besting Wesley Matthews' Portland franchise record of 826. Lillard finished the regular season with an average of 25.1 points per game, while C. J. McCollum averaged 20.8 – making them the first backcourt in Blazers' history to average 20 or more points apiece. Lillard also became the third Blazer to average 25-plus points, joining Drexler and Kiki Vandeweghe. In the 2016 MVP Race, he finished 8th in total points received, scoring 26 points out of a possible 1310 points.After defeating the Los Angeles Clippers in the first round of the playoffs, the Trail Blazers moved on to face the Golden State Warriors in the second round. In Game 3 of the series, Lillard recorded 40 points and 10 assists to help the Trail Blazers win 120–108, cutting the Warriors' advantage in the series to 2–1. The Trail Blazers went on to lose the series in five games.\n",
      "\n",
      "\n",
      "==== 2016–17 season ====\n",
      "In the Trail Blazers' season opener on October 25, 2016, Lillard recorded 39 points on 13-of-20 shooting, as well as 9 rebounds and 6 assists in a 113–104 win over the Utah Jazz. With his first assist of the night, Lillard passed Jim Paxson for sixth on the franchise career list (2,008). Four days later, he scored 37 points, including the go-ahead floater with less than a second remaining in overtime, to lead the Trail Blazers to a 115–113 win over the Denver Nuggets. With 27 points against the Phoenix Suns on November 2, Lillard became the first NBA player to score 27 or more points in each of his team's first five games since Kobe Bryant in 2005–06. Lillard's 163 points in the season's first five games are the most ever by a Blazer to start a season. Two days later, Lillard scored 27 of his season-high 42 points in the second half of the Trail Blazers' 105–95 win over the Dallas Mavericks. With 38 points on November 8 against Phoenix, Lillard had 262 points over the first eight games of the season, the most through the first eight games of a season in franchise history. It was also the most by an NBA player since Bryant had 264 through the first eight in 2009–10.Lillard amassed a team-record 695 points in the Blazers' first 25 games of the season, eclipsing Clyde Drexler's previous mark of 681 in 1988. He went on to miss five games between December 26 and January 4 after spraining his left ankle against San Antonio on December 23. On January 28 against Golden State, Lillard reached 8,000 career points, becoming the 11th Blazer to hit the mark and joined Michael Jordan and LeBron James as the only three players to reach 8,000 points and 2,000 assists in their first five seasons. On March 19, Lillard scored a season-high 49 points, tied a career high with nine three-pointers, and carried the Trail Blazers past the Miami Heat, 115–104. On April 3, 2017, he was named Western Conference Player of the Month for games played in March. Behind Lillard, the Trail Blazers went an NBA-best 13–3 in March to surge into eighth place in the Western Conference. Lillard ranked third in the NBA in scoring (29.1 ppg) and tied for fourth in three-pointers made (55) to go with 6.0 assists, 4.4 rebounds and 1.44 steals in 16 games. Five days later, Lillard scored a franchise-record 59 points and matched his career high with nine three-pointers to lead the Trail Blazers to a 101–86 win over the Jazz. It was Lillard's 27th game of the season with 30 or more points, a franchise high. He also became the fifth Blazer to score 2,000-plus points in a season. After being 10 games under .500 at the All-Star break, Lillard helped the Trail Blazers to an 18–8 late-season surge to earned them the No. 8 seed in the Western Conference with a 41–41 record. They faced the Golden State Warriors for the second straight year in the playoffs, this time in the first round. Portland went on to lose the series in a clean sweep despite Lillard's 34-point effort in Game 4. For the series, Lillard averaged 27.8 points, 4.5 rebounds, 3.3 assists and 1.3 steals per game while shooting 43% from the field, 28% from behind the arc, and 96% from the free throw line. On May 2, 2017, he was named the recipient of the Magic Johnson Award for the 2016–17 season, which honors the player who best combines excellence on the basketball court with cooperation and dignity in dealing with the media and the public.\n",
      "\n",
      "\n",
      "==== 2017–18 season: All-NBA First Team selection ====\n",
      "\n",
      "On October 28, 2017, in a 114–107 win over the Phoenix Suns, Lillard reached the 9,000-point milestone during the third quarter. With 402 career games, Lillard became the fastest Blazer to score 9,000 points. On November 15, he had 26 points, 11 rebounds and seven assists in a 99–94 win over the Orlando Magic. During the game, he surpassed Mychal Thompson (9,215 points) for eighth on the franchise's all-time scoring leaders list. On November 27, he scored 32 points in a 103–91 win over the New York Knicks. He finished the game on 2,575 career assists, moving him past Rod Strickland into fourth place on Portland's career assists list. Lillard also joined Clyde Drexler and Terry Porter as the only players in franchise history in the top 10 in scoring and top five in assists. On December 9, he tied a franchise record with nine 3-pointers and scored 35 points in a 124–117 loss to the Houston Rockets. Two days later, he scored a then season-high 39 points with five 3-pointers in a 111–104 loss to the Golden State Warriors. Lillard dealt with a hamstring injury late in December before straining his right calf in early January. On January 12, he scored 23 points in a 119–113 loss to the New Orleans Pelicans. He moved into seventh in franchise history in scoring with 9,753 points, passing Geoff Petrie (9,732). On January 22, Lillard was named Western Conference Player of the Week for games played January 15–21. It was his fourth career Player of the Week nod. A day later, he was named a Western Conference All-Star reserve. On February 2, he scored 32 points in a 130–105 loss to the Toronto Raptors, becoming the fastest player in franchise history to reach 10,000 points for his career. He became the eighth player to get 10,000 points and 2,500 assists in his first six seasons, joining Michael Jordan, LeBron James, Larry Bird, Nate Archibald, Pete Maravich, Dave Bing and Oscar Robertson. On February 9, in a 118–100 win over the Sacramento Kings, Lillard scored a season-high 50 points in 29 minutes—the fourth 50-point game of his career. He scored 22 points in the third quarter before sitting out the entire fourth quarter. He shot 16 of 26 from the field with eight 3-pointers to go with 10-of-10 free throws. On February 14, he had 44 points and eight assists in a 123–117 win over the Warriors. On February 24, he hit a go-ahead lay-up with 0.9 seconds left and finished with a game-high 40 points in a 106–104 win over the Suns. Nineteen of his 40 points came in the fourth quarter, as he helped the Trail Blazers rally from 15 down in the final 7+1⁄2 minutes. In five games between February 9 and 24, Lillard scored 197 points—the most points for a Blazer over a five-game stretch in franchise history. Lillard averaged 31.4 points per game in February, clinching the highest-scoring average for any month in Portland history. He passed Geoff Petrie's record of 30.4 points in March 1971. On March 3 against the Oklahoma City Thunder, Lillard made at least one 3-pointer in his 45th straight game, setting a franchise record. With nine assists on March 15 against the Cleveland Cavaliers, Lillard became the third player in league history to have 1,500-plus points and 400-plus assists in each of his first six seasons. On March 20 against Houston, Lillard's franchise-record streak of 52 games with a 3-pointer ended. In the Trail Blazers' season finale on April 11, Lillard recorded 36 points and 10 assists in a 102–93 win over the Utah Jazz. The win earned the Trail Blazers the third seed in the playoffs with a 49–33 record. Lillard finished the regular season tied for fourth in scoring average in the NBA (26.9)—Drexler was the last Blazer to rank among the league's five best in scoring when he finished fourth during the 1991–92 season (25.0). For the season, he was named to the All-NBA First Team, becoming the third player in franchise history to earn All-NBA First Team honors, joining Clyde Drexler (1991–92) and Bill Walton (1977–78). Additionally, he placed 4th in the 2018 MVP Race, winning 207.0 of the 1010 possible points.In Game 4 of the Trail Blazers' first-round playoff series against the Pelicans, Lillard scored 19 points in a 131–123 loss. The loss eliminated Portland from the playoffs, as they lost the series in a four-game sweep. Lillard never scored more than 20 in the series and was held below that three times.\n",
      "\n",
      "\n",
      "==== 2018–19 season: Western Conference Finals ====\n",
      "In the Trail Blazers' season opener on October 18, 2018, Lillard scored a game-high 28 points in a 128–119 win over the Los Angeles Lakers. On October 25, he scored 34 of his 41 points in the second half of the Trail Blazers' 128–114 win over the Orlando Magic. On October 27, he scored 42 points in a 120–111 loss to the Miami Heat, eclipsing the 11,000-point mark. On November 16, he had five assists against the Minnesota Timberwolves to pass Damon Stoudamire (3,018) for third on the team's career list. Two days later, he scored 40 points in a 119–109 win over the Washington Wizards. On November 28, he scored 41 points and set a franchise record with ten 3-pointers in a 115–112 win over the Magic. His seven 3-pointers in the third were a franchise record for a quarter. On December 17, he scored 22 of his 39 points in the third quarter of the Trail Blazers' 131–127 win over the Los Angeles Clippers. On December 27, he hit a go-ahead 3-pointer with 6.3 seconds left in overtime and scored 21 points in a 110–109 win over the Golden State Warriors. Two days later, he hit six 3-pointers and scored 40 points in a 115–105 loss to the Warriors. It was his fifth 40-point game of the season, tying a career high. On January 14, in a 115–107 loss to the Sacramento Kings, Lillard scored 35 points to become the fastest player in Portland history to reach 12,000 for his career. Additionally, Lillard scored in double figures in his 184th consecutive game, breaking a tie with Clyde Drexler for the franchise record. With 24 points against the Phoenix Suns on January 24, Lillard reached 1,311 points for the season, the most by any Portland player through 50 games. On March 7, he scored a season-high 51 points in a 129–121 overtime loss to the Oklahoma City Thunder. On March 15, he scored 24 points in a 122–110 win over the New Orleans Pelicans, becoming the second-leading scorer in franchise history, passing LaMarcus Aldridge (12,562) to sit behind only Drexler (18,040). With 31 points and 12 assists in a double-overtime victory over the Brooklyn Nets on March 25, Lillard recorded his 20th career game of at least 30 points and 10 assists, passing Drexler for the most such games in franchise history (19). On April 1, he was named Western Conference Player of the Week for the week ending March 31, marking the seventh weekly honor of his career and the first of the 2018–19 season. In April, he became the first Blazer to have 2,000 points and 500 assists in the same season, and the only Blazer besides Drexler to reach 2,000 points in two seasons with the team. He also passed his franchise record of 229 3-pointers set in the 2015–16 season and reached 1,500 for his career. Lillard placed 6th in the 2019 MVP race, receiving 69 of the 1,010 available points. This marked the 3rd time in four seasons that he had placed among the top 8 in MVP voting. \n",
      "On April 23, Lillard hit a 37-foot, game-winning 3-pointer at the buzzer and finished with a playoff career-high 50 points to help the Trail Blazers eliminate the Thunder from the playoffs in five games with a 118–115 victory. He had ten 3-pointers, breaking the franchise record. In Game 1 of the second round, Lillard scored 39 points in a 121–113 loss to the Denver Nuggets. In Game 6, he scored 32 points in a 119–108 win, helping the Trail Blazers tie the series against the Nuggets at 3–3. In the deciding Game 7, he scored 13 points on 3-of-17 shooting in a 100–96 win, advancing the Trail Blazers to the Western Conference Finals for the first time since 2000. In Game 2 of the conference finals, Lillard separated his ribs, but continued to play through the pain for the rest of the series—a series the Trail Blazers lost in a four-game sweep to the Warriors.\n",
      "\n",
      "\n",
      "==== 2019–20 season ====\n",
      "On November 8, 2019, Lillard recorded a then career-high 60 points, though it came in a loss to the visiting Brooklyn Nets, 115–119. He would surpass that on January 20, 2020, by scoring 61 points to go along with 10 rebounds and 7 assists in a 129–124 overtime win versus the Golden State Warriors. From January 20 through February 1, Lillard had a six-game stretch of averaging 48.8 points per game; he also recorded his first career triple-double on January 29 by registering 36 points, 10 rebounds, and 11 assists in a 125–112 victory over the Houston Rockets. The historic scoring run earned him back-to-back Western Conference Player of the Week awards. On January 30, Lillard was selected to his fifth All-Star nod but was unable to participate due to a groin injury. He missed six games from February 21 to March 2. Lillard returned to play in the last four Blazers' games before the NBA hiatus due to the COVID-19 pandemic; during this span, he averaged 20.8 points, 3.8 rebounds, 6 assists, and 1.8 steals per contest while shooting 40 percent from the field, 41.2 percent on 3-pointers, and 87.5 percent at the free-throw line. On June 30, 2020, Lillard was selected to be the cover athlete for NBA 2K21. In Portland’s fourth game in the Orlando bubble, upon returning from the four-month hiatus, Lillard recorded 45 points and 12 assists in a 125–115 win over the Denver Nuggets on August 6. Three days later, he would follow that up with a 51-point, 7-assist performance to lead the Trail Blazers to 124–121 victory over the Philadelphia 76ers. On August 11, Lillard erupted for 61 points, tying a career high, and 8 assists en route to a 134–131 win over the Dallas Mavericks. This was his third 60-point outing of the season, joining Wilt Chamberlain as the only two players in league history to have such games three times in a single season.\n",
      "\n",
      "\n",
      "==== 2020–21 season ====\n",
      "On January 30, 2021, Lillard scored a season-high 44 points, alongside a game-winning three at the buzzer, in a 123–122 win over the Chicago Bulls. On February 17, 2021, Lillard scored 43 points and tied a career-high 16 assists in a win against the New Orleans Pelicans. He became one of only 12 players in NBA history to have 40 points and 15 assists in a game.\n",
      "\n",
      "\n",
      "== Career statistics ==\n",
      "\n",
      "\n",
      "=== NBA ===\n",
      "\n",
      "\n",
      "==== Regular season ====\n",
      "\n",
      "\n",
      "==== Playoffs ====\n",
      "\n",
      "\n",
      "=== College ===\n",
      "\n",
      "\n",
      "== Awards and honors ==\n",
      "NBA6× NBA All-Star (2014, 2015, 2018, 2019, 2020, 2021)\n",
      "All-NBA First Team (2018)\n",
      "3× All-NBA Second Team (2016, 2019, 2020)\n",
      "All-NBA Third Team (2014)\n",
      "NBA Bubble Most Valuable Player (2020)\n",
      "NBA Rookie of the Year (2013)\n",
      "NBA All-Rookie First Team (2013)\n",
      "NBA Rising Star (2012, 2013)\n",
      "2× NBA Skills Challenge champion (2013, 2014)\n",
      "First NBA player ever to participate in 5 events in All Star Weekend (2014: Rising Stars Challenge: Dunk Contest, 3-point Contest, Skills Challenge winner, All Star Game)CollegeAP third-team All-American (2012)\n",
      "NABC third-team All-American (2012)\n",
      "2× Big Sky Conference Player of the Year (2010, 2012)\n",
      "3× First-team All-Big Sky (2009, 2010, 2012)\n",
      "2× Big Sky All-Tournament Team (2010, 2012)\n",
      "Big Sky Freshman of the Year (2009)\n",
      "No. 1 retired by Weber State\n",
      "\n",
      "\n",
      "== Personal life ==\n",
      "\n",
      "Lillard wears the jersey number No. 0, representative for the letter 'O' and his journey in life; from Oakland, to Ogden, and now Oregon. Lillard is a Christian; he has a scripture on his left arm of Psalms 37:1-3. He completed his degree in professional sales from Weber State University in May 2015. Lillard's sister, LaNae, attended Lakeridge High School. His brother Houston, who earned a football scholarship to Southeast Missouri State after playing football in the junior college level at Laney College, is an Indoor Football League quarterback.In 2020-21 season, he became teammates of his cousin, Keljin Blevins.On March 29, 2018, Lillard had his first child, a son named Damian Jr. They live in the affluent Portland suburb of West Linn.  Lillard established a RESPECT Program to help high school kids in the Portland metro area graduate.In 2012, Lillard signed a multi-year sponsorship deal with Adidas. In 2014, Lillard negotiated a new contract with Adidas potentially worth $100 million over 10 years. Lillard has a signature shoe line with Adidas, the \"Adidas Dame\". In 2017, Lillard signed a sponsorship deal with Powerade, a subsidiary of the Coca-Cola Company. Lillard also has endorsement deals with Spalding, Panini, Foot Locker, JBL, Biofreeze and Moda Health. In 2019, Lillard also became one of a number of NBA players to sign a contract with Hulu to promote the streaming service's new campaign of adding live sports to their repertoire.Lillard revived the Never Worry Picnic in Brookfield Park after his standout rookie season in 2013. The East Oakland event was discontinued when he was at age 12.In 2020, Lillard, along with longtime friend and business partner Brian Sanders, became co-owner of a Toyota dealership, now known as Damian Lillard Toyota, in McMinnville, Oregon.In January 2021, Lillard had his second and third child after his fiancée Kay’La Hanson gave birth to twins, a daughter named Kali and a son named Kalii.\n",
      "\n",
      "\n",
      "== Music career ==\n",
      "Lillard is a hip-hop artist and rapper by the name of Dame D.O.L.L.A., which stands for Different On Levels the Lord Allows. He began rapping mainly to hang out in the car of his cousin Eugene \"Baby\" Vasquez, who moved to Oakland from New York City in the early 1990s. Another big influence on Lillard's rapping was his cousin Brookfield Duece, who had some success in the Oakland rap scene.He started a social media trend called \"Four Bar Friday\" in which he, and anyone who chooses to participate, submits a video of themselves rapping a small verse on Instagram every Friday with the hashtag #4BarFriday. In July 2015, he released his first full length single, \"Soldier in the Game\", via the online music streaming site SoundCloud. On October 21, 2016, Lillard released his debut album The Letter O. On October 6, 2017, Lillard released his second album Confirmed. Lillard released his third album, Big D.O.L.L.A. on August 9, 2019, featuring guests Lil Wayne, Mozzy, and Jeremih. He now has his own record label, Front Page Music, which includes Brookfield Duece in its roster. Lillard's non-album single \"Kobe\", which was released in September 2020 and features Snoop Dogg and Derrick Milano, is part of the soundtrack for NBA 2K21.\n",
      "\n",
      "\n",
      "== Discography ==\n",
      "\n",
      "\n",
      "=== Studio albums ===\n",
      "\n",
      "\n",
      "=== Singles ===\n",
      "\n",
      "\n",
      "==== As lead artist ====\n",
      "\n",
      "\n",
      "==== As featured artist ====\n",
      "\n",
      "\n",
      "=== Notes ===\n",
      "\n",
      "\n",
      "== See also ==\n",
      "\n",
      "List of National Basketball Association career 3-point scoring leaders\n",
      "List of National Basketball Association single-game scoring leaders\n",
      "\n",
      "\n",
      "== References ==\n",
      "\n",
      "\n",
      "== External links ==\n",
      "Career statistics and player information from NBA.com and Basketball-Reference.com\n",
      "Weber State Wildcats bio\n",
      "ESPN.com profile\n",
      "Damian Lillard at IMDb\n"
     ]
    }
   ],
   "source": [
    "\n",
    "\n",
    "\n",
    "print(\"Enter the name of the player you want to check bibliography\")\n",
    "a = input()\n",
    "result = wikipedia.search(a)\n",
    "page = wikipedia.page(result[0])\n",
    "content = page.content\n",
    "print(content)\n",
    "#print(wikipedia.summary(\"LaMarcus Aldridge\"))"
   ]
  },
  {
   "cell_type": "code",
   "execution_count": null,
   "metadata": {},
   "outputs": [],
   "source": []
  },
  {
   "cell_type": "code",
   "execution_count": 4,
   "metadata": {},
   "outputs": [
    {
     "name": "stdout",
     "output_type": "stream",
     "text": [
      "Damian Lillard Statistics for the season of  2020\n",
      "             Player   PTS  AST  TRB\n",
      "390  Damian Lillard  30.0  8.0  4.3\n"
     ]
    }
   ],
   "source": [
    "print(a, \"Statistics for the season of \", szn)\n",
    "first_player = df[df['Player']==a]\n",
    "print(first_player[['Player', 'PTS','AST','TRB']])"
   ]
  },
  {
   "cell_type": "code",
   "execution_count": null,
   "metadata": {},
   "outputs": [],
   "source": []
  },
  {
   "cell_type": "code",
   "execution_count": null,
   "metadata": {},
   "outputs": [],
   "source": []
  },
  {
   "cell_type": "code",
   "execution_count": null,
   "metadata": {},
   "outputs": [],
   "source": []
  },
  {
   "cell_type": "code",
   "execution_count": 2,
   "metadata": {},
   "outputs": [
    {
     "name": "stdout",
     "output_type": "stream",
     "text": [
      "Enter a second player: Lonzo Ball\n"
     ]
    },
    {
     "ename": "NameError",
     "evalue": "name 'szn' is not defined",
     "output_type": "error",
     "traceback": [
      "\u001b[0;31m---------------------------------------------------------------------------\u001b[0m",
      "\u001b[0;31mNameError\u001b[0m                                 Traceback (most recent call last)",
      "\u001b[0;32m<ipython-input-2-ea155ca62554>\u001b[0m in \u001b[0;36m<module>\u001b[0;34m\u001b[0m\n\u001b[1;32m      1\u001b[0m \u001b[0mplayer_2\u001b[0m \u001b[0;34m=\u001b[0m \u001b[0minput\u001b[0m\u001b[0;34m(\u001b[0m\u001b[0;34m\"Enter a second player: \"\u001b[0m\u001b[0;34m)\u001b[0m\u001b[0;34m\u001b[0m\u001b[0;34m\u001b[0m\u001b[0m\n\u001b[0;32m----> 2\u001b[0;31m \u001b[0mprint\u001b[0m\u001b[0;34m(\u001b[0m\u001b[0;34mf\"Stats for the {szn} season:\"\u001b[0m\u001b[0;34m)\u001b[0m\u001b[0;34m\u001b[0m\u001b[0;34m\u001b[0m\u001b[0m\n\u001b[0m\u001b[1;32m      3\u001b[0m \u001b[0msecond_player\u001b[0m \u001b[0;34m=\u001b[0m \u001b[0mdf\u001b[0m\u001b[0;34m[\u001b[0m\u001b[0mdf\u001b[0m\u001b[0;34m[\u001b[0m\u001b[0;34m'Player'\u001b[0m\u001b[0;34m]\u001b[0m\u001b[0;34m==\u001b[0m \u001b[0mplayer_2\u001b[0m\u001b[0;34m]\u001b[0m\u001b[0;34m\u001b[0m\u001b[0;34m\u001b[0m\u001b[0m\n\u001b[1;32m      4\u001b[0m \u001b[0mprint\u001b[0m\u001b[0;34m(\u001b[0m\u001b[0msecond_player\u001b[0m\u001b[0;34m[\u001b[0m\u001b[0;34m[\u001b[0m\u001b[0;34m'Player'\u001b[0m\u001b[0;34m,\u001b[0m \u001b[0;34m'PTS'\u001b[0m\u001b[0;34m,\u001b[0m\u001b[0;34m'AST'\u001b[0m\u001b[0;34m,\u001b[0m\u001b[0;34m'TRB'\u001b[0m\u001b[0;34m]\u001b[0m\u001b[0;34m]\u001b[0m\u001b[0;34m)\u001b[0m\u001b[0;34m\u001b[0m\u001b[0;34m\u001b[0m\u001b[0m\n\u001b[1;32m      5\u001b[0m \u001b[0;34m\u001b[0m\u001b[0m\n",
      "\u001b[0;31mNameError\u001b[0m: name 'szn' is not defined"
     ]
    }
   ],
   "source": [
    "\n",
    "player_2 = input(\"Enter a second player: \")\n",
    "print(f\"Stats for the {szn} season:\")\n",
    "second_player = df[df['Player']== player_2]\n",
    "print(second_player[['Player', 'PTS','AST','TRB']])\n",
    "\n",
    "\n",
    "df_row = pd.concat([first_player, second_player])\n",
    "df_row=df_row[['Player', 'PTS','AST','TRB']]\n",
    "df_row\n",
    "\n",
    "\n",
    "df_row['PTS'] = df['PTS'].astype(float)\n",
    "df_row['AST'] = df['AST'].astype(float)\n",
    "df_row['TRB'] = df['TRB'].astype(float)\n",
    "df['PTS'] = df['PTS'].astype(float)\n",
    "df['AST'] = df['AST'].astype(float)\n",
    "df['TRB'] = df['TRB'].astype(float)\n",
    "df.dtypes\n",
    "\n",
    "\n",
    "#calculating  if they are comparing one player individually\n",
    "index = df_row. index\n",
    "number_of_rows = len(index) \n",
    "\n",
    "average=pd.DataFrame({\"Player\":\"Average\",\"PTS\":df[\"PTS\"].mean(),\"AST\":df['AST'].mean(),\"TRB\":df['TRB'].mean()}, index=[3])\n",
    "\n",
    "\n",
    "df_row = pd.concat([df_row, average])\n",
    "df_row\n",
    "\n",
    "ax = df_row.plot.bar(x='Player', y='PTS', rot=0)\n",
    "\n",
    "ax = df_row.plot.bar(x='Player', y='AST', rot=0)\n",
    "\n",
    "ax = df_row.plot.bar(x='Player', y='TRB', rot=0)"
   ]
  },
  {
   "cell_type": "code",
   "execution_count": 6,
   "metadata": {},
   "outputs": [
    {
     "data": {
      "text/html": [
       "<div>\n",
       "<style scoped>\n",
       "    .dataframe tbody tr th:only-of-type {\n",
       "        vertical-align: middle;\n",
       "    }\n",
       "\n",
       "    .dataframe tbody tr th {\n",
       "        vertical-align: top;\n",
       "    }\n",
       "\n",
       "    .dataframe thead th {\n",
       "        text-align: right;\n",
       "    }\n",
       "</style>\n",
       "<table border=\"1\" class=\"dataframe\">\n",
       "  <thead>\n",
       "    <tr style=\"text-align: right;\">\n",
       "      <th></th>\n",
       "      <th>Player</th>\n",
       "      <th>PTS</th>\n",
       "      <th>AST</th>\n",
       "      <th>TRB</th>\n",
       "    </tr>\n",
       "  </thead>\n",
       "  <tbody>\n",
       "    <tr>\n",
       "      <th>390</th>\n",
       "      <td>Damian Lillard</td>\n",
       "      <td>30.0</td>\n",
       "      <td>8.0</td>\n",
       "      <td>4.3</td>\n",
       "    </tr>\n",
       "    <tr>\n",
       "      <th>26</th>\n",
       "      <td>Lonzo Ball</td>\n",
       "      <td>11.8</td>\n",
       "      <td>7.0</td>\n",
       "      <td>6.1</td>\n",
       "    </tr>\n",
       "  </tbody>\n",
       "</table>\n",
       "</div>"
      ],
      "text/plain": [
       "             Player   PTS  AST  TRB\n",
       "390  Damian Lillard  30.0  8.0  4.3\n",
       "26       Lonzo Ball  11.8  7.0  6.1"
      ]
     },
     "execution_count": 6,
     "metadata": {},
     "output_type": "execute_result"
    }
   ],
   "source": [
    "df_row = pd.concat([first_player, second_player])\n",
    "df_row=df_row[['Player', 'PTS','AST','TRB']]\n",
    "df_row\n"
   ]
  },
  {
   "cell_type": "code",
   "execution_count": 7,
   "metadata": {},
   "outputs": [
    {
     "data": {
      "text/html": [
       "<div>\n",
       "<style scoped>\n",
       "    .dataframe tbody tr th:only-of-type {\n",
       "        vertical-align: middle;\n",
       "    }\n",
       "\n",
       "    .dataframe tbody tr th {\n",
       "        vertical-align: top;\n",
       "    }\n",
       "\n",
       "    .dataframe thead th {\n",
       "        text-align: right;\n",
       "    }\n",
       "</style>\n",
       "<table border=\"1\" class=\"dataframe\">\n",
       "  <thead>\n",
       "    <tr style=\"text-align: right;\">\n",
       "      <th></th>\n",
       "      <th>Player</th>\n",
       "      <th>PTS</th>\n",
       "      <th>AST</th>\n",
       "      <th>TRB</th>\n",
       "    </tr>\n",
       "  </thead>\n",
       "  <tbody>\n",
       "    <tr>\n",
       "      <th>390</th>\n",
       "      <td>Damian Lillard</td>\n",
       "      <td>30.00000</td>\n",
       "      <td>8.000000</td>\n",
       "      <td>4.300000</td>\n",
       "    </tr>\n",
       "    <tr>\n",
       "      <th>26</th>\n",
       "      <td>Lonzo Ball</td>\n",
       "      <td>11.80000</td>\n",
       "      <td>7.000000</td>\n",
       "      <td>6.100000</td>\n",
       "    </tr>\n",
       "    <tr>\n",
       "      <th>3</th>\n",
       "      <td>Average</td>\n",
       "      <td>8.46129</td>\n",
       "      <td>1.843932</td>\n",
       "      <td>3.563287</td>\n",
       "    </tr>\n",
       "  </tbody>\n",
       "</table>\n",
       "</div>"
      ],
      "text/plain": [
       "             Player       PTS       AST       TRB\n",
       "390  Damian Lillard  30.00000  8.000000  4.300000\n",
       "26       Lonzo Ball  11.80000  7.000000  6.100000\n",
       "3           Average   8.46129  1.843932  3.563287"
      ]
     },
     "execution_count": 7,
     "metadata": {},
     "output_type": "execute_result"
    }
   ],
   "source": [
    "df_row['PTS'] = df['PTS'].astype(float)\n",
    "df_row['AST'] = df['AST'].astype(float)\n",
    "df_row['TRB'] = df['TRB'].astype(float)\n",
    "df['PTS'] = df['PTS'].astype(float)\n",
    "df['AST'] = df['AST'].astype(float)\n",
    "df['TRB'] = df['TRB'].astype(float)\n",
    "df.dtypes\n",
    "\n",
    "\n",
    "#calculating  if they are comparing one player individually\n",
    "index = df_row. index\n",
    "number_of_rows = len(index) \n",
    "\n",
    "average=pd.DataFrame({\"Player\":\"Average\",\"PTS\":df[\"PTS\"].mean(),\"AST\":df['AST'].mean(),\"TRB\":df['TRB'].mean()}, index=[3])\n",
    "\n",
    "\n",
    "df_row = pd.concat([df_row, average])\n",
    "df_row\n",
    "\n"
   ]
  },
  {
   "cell_type": "code",
   "execution_count": 8,
   "metadata": {},
   "outputs": [
    {
     "data": {
      "image/png": "[encoded data removed]",
      "text/plain": [
       "<Figure size 432x288 with 1 Axes>"
      ]
     },
     "metadata": {
      "needs_background": "light"
     },
     "output_type": "display_data"
    }
   ],
   "source": [
    "ax = df_row.plot.bar(x='Player', y='PTS', rot=0)"
   ]
  },
  {
   "cell_type": "code",
   "execution_count": 9,
   "metadata": {},
   "outputs": [
    {
     "data": {
      "image/png": "[encoded data removed]",
      "text/plain": [
       "<Figure size 432x288 with 1 Axes>"
      ]
     },
     "metadata": {
      "needs_background": "light"
     },
     "output_type": "display_data"
    }
   ],
   "source": [
    "ax = df_row.plot.bar(x='Player', y='AST', rot=0)"
   ]
  },
  {
   "cell_type": "code",
   "execution_count": 10,
   "metadata": {},
   "outputs": [
    {
     "data": {
      "image/png": "[encoded data removed]",
      "text/plain": [
       "<Figure size 432x288 with 1 Axes>"
      ]
     },
     "metadata": {
      "needs_background": "light"
     },
     "output_type": "display_data"
    }
   ],
   "source": [
    "ax = df_row.plot.bar(x='Player', y='TRB', rot=0)"
   ]
  },
  {
   "cell_type": "code",
   "execution_count": null,
   "metadata": {},
   "outputs": [],
   "source": []
  }
 ],
 "metadata": {
  "kernelspec": {
   "display_name": "Python 3",
   "language": "python",
   "name": "python3"
  },
  "language_info": {
   "codemirror_mode": {
    "name": "ipython",
    "version": 3
   },
   "file_extension": ".py",
   "mimetype": "text/x-python",
   "name": "python",
   "nbconvert_exporter": "python",
   "pygments_lexer": "ipython3",
   "version": "3.8.6"
  }
 },
 "nbformat": 4,
 "nbformat_minor": 4
}
