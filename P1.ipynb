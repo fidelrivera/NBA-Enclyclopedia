{
 "cells": [
  {
   "cell_type": "markdown",
   "metadata": {},
   "source": [
    "# IST256 Project Deliverable 1 (P1)\n",
    "\n",
    "## FIRST: Read The Syllabus\n",
    "\n",
    "Please read the project section of the syllabus as that explains the the project itself, its phases, and evaluation criteria. \n",
    "\n",
    "[http://ist256.com/syllabus/#project-p1-p4](http://ist256.com/syllabus/#project-p1-p4)\n",
    "\n",
    "\n",
    "## Project Objective\n",
    "\n",
    "Your primary objectives for the project are to create something novel, useful and innovative with Python code. You can draw your inspiration from the many examples given to you throughout the semester. Your project should clearly and explicitly demonstrate the level of programming knowledge that you have acquired in this course. The type of project you propose is up to you. Ultimately you are evaluated based on not only the idea itself but your execution of it, therefore your **project should be a representaiton of you and your abilities as a programmer.**  \n",
    "\n",
    "Our role is to help you to scope your idea. If it is simple enough we will expect a full implementation, if it’s complex then we’ll ask for a manifestation of your idea as a minimum viable product. It should be a proof of concept demonstrating how the bigger system might work. That being said, it is important to engage your small group instructor as they are the evaluator of your work. It can only make your project and your grade better.\n"
   ]
  },
  {
   "cell_type": "markdown",
   "metadata": {},
   "source": [
    "### Starting Your Code Journal\n",
    "\n",
    "One of the most valuable things you can do for yourself as a programmer is start a code journal. Each time you work on the project include the date, number of hours worked and a summary what you did. The most important part of your journal should be the comments. What did you do? Did you finish it? What issues are outstanding? What questions do you have? Did you hit any dead-ends? How did you work around the problem? Are you stuck? What are you stuck on?\n",
    "\n",
    "Each time before you start work on your project review the last entry of your journal to remind you of where you left off! When you embrace journaling you'll discover many valuable uses for it. I love it simply for all the things I don't have to try to keep in my head between coding sessions.\n",
    "\n",
    "If you want the best possible grade on your project, then you will have to maintain a regular code journal. It should include routine contributions you've made to the project. I have written an interactive journal as a Python program. Using the journal is simple. just Open `CodeJournal.ipynb` and run the code cell.\n",
    "\n",
    "\n",
    "**IMPORTANT**: You should start journaling your project activity NOW as you complete P1.\n",
    "\n",
    "[![(https://ist256.github.io/images/code-journal.gif)](https://ist256.github.io/images/code-journal.gif)](https://ist256.github.io/images/code-journal.gif)\n"
   ]
  },
  {
   "cell_type": "markdown",
   "metadata": {},
   "source": [
    "## Phase 1: Ideation\n",
    "\n",
    "The goal of this phase is to outline the specific goals and objectives of your project; include evidence of its feasibility by including citations of resources you will use to complete the code.\n"
   ]
  },
  {
   "cell_type": "markdown",
   "metadata": {},
   "source": [
    "### Step 1: Project Summary\n",
    "\n",
    "Write a brief summary of your project idea, In 250 - 500 words.\n",
    "\n",
    "`My project idea is a player information book/ comparison program for the NBA. I want to make a really visually appealing program that shows the data assosicated with NBA players. So for example, if someone wanted to get information on an NBA player, they would type in their name ex. Jayson Tatum. The program would then take the bio from googles information card, or some other source and start the information display off with it. The program would then Output things such as his stats for this specific season, his career stats, and his career accolades. I would also then make it so that you can continue to enter players, either to get their individual information, or to compare them to the last player entered. `\n",
    "\n",
    "\n"
   ]
  },
  {
   "cell_type": "markdown",
   "metadata": {},
   "source": [
    "### Step 2: Project Component Research\n",
    "\n",
    "You should provide evidence through research that you have the components necessary to implement your project in code. We expect you to provide sources for each component, some will be of your own discovery, some will be things we've done in class.\n",
    "\n",
    "For each component:\n",
    "\n",
    "1. Define what it is and how will it be used in your project, and \n",
    "2. Provide a citation to the sources you can use to implement the component. ALWAYS include a URL to the source, unless it came from the course itself, in which you should state where it came from in the course (lesson 04 lab, lesson 05 homework, lesson 06 large group, etc. Its a good idea to have at least two sources in case one does not work out. \n",
    "\n",
    "\n",
    "**Two Examples of Components with Sources**  \n",
    "\n",
    "```\n",
    "Sentiment analysis will be used determine how chickens feel about the weather. \n",
    "I plan to use https://text-processing.com (from lesson 10 lab/hw) or \n",
    "Azure Text Analytics https://azure.microsoft.com/en-us/services/cognitive-services/text-analytics/ (from lesson 11 lab and hw). Depending on which one is more accurate.\n",
    "\n",
    "The locations of the chickens will be placed on a map \n",
    "using Folium (Lesson 13 Lab) or perhaps if I can figure it out \n",
    "using plotly bubble maps service (https://plotly.com/python/bubble-maps/)\n",
    "```\n",
    "\n",
    "\n",
    "\n",
    "\n",
    "What qualifies as a component?\n",
    "\n",
    "- An API and/or Python module on https://pypi.org (always include a URL source)\n",
    "- A Data set (include a URL source if online, or scraping a webpage, for example)\n",
    "- Using interact / IPywidgets / IPython.display for UI\n",
    "- Each visualization (chart, graph, map)\n",
    "- Other things, upon discussion with your small group instructor\n",
    "\n",
    "\n",
    "**NOTE:** The more components you have the better the chance you will reach the code length threshold for your desired grade. In addition for the highest possible grade **at least 3 of those components must be novel** - things we have not used in class before. Consult the syllabus.\n",
    "\n",
    "\n"
   ]
  },
  {
   "cell_type": "markdown",
   "metadata": {},
   "source": [
    "### Step 2a: List Your Project Components\n",
    "\n",
    "I plan to use google's desctiption of who the human being is. The first google result is usually a card with a short bio of them if they arent trending at the moment. I am unsure of an API that can be used for this but will research more into this maybe https://developers.google.com/apis-explorer will have something useful.\n",
    "\n",
    "\n",
    "I will also use the NBA-API to pull my data from in the program. I found some information on https://pypi.org/project/nba-api/ which should be helpful. I'll also use some of whatever I can find on https://rapidapi.com/blog/nba-basketball-stats-api/.\n",
    "\n",
    "\n",
    "Also, I want to be able to compare them, using some sort of counting algorithm that tells the user who's having a better season with a print statement. For example certain categories they lead in equal 1 point, and whoever has a higher point total is having a better season.\n",
    "\n",
    "\n",
    "\n"
   ]
  },
  {
   "cell_type": "markdown",
   "metadata": {},
   "source": [
    "### Step 2b: Identify Your Novel Components\n",
    "\n",
    "Since I wanted this project to be visually appealing, I wanted to implement visuals when players were searched. So for example, if a user were to search Stephen Curry, a gif or image of him would appear, not exactly sure which yet. I'll have the image be the first image that google returns when you type that players name followed by 'NBA'.\n",
    "\n",
    "I also want for several options with interact, and changing the names of the run interact buttons. So for example, when a user inputs a second player, there's a button that says 'Compare to Last Player' and another that says 'Search Individually' .\n",
    "\n",
    "Also, I am unsure where I would use this or if it would even be useful, but I want to implement some sort of sound in my program. I'll do this depending on how complex it can be but maybe I can use it to read the text outputted from my program, for accesibility purpouses.\n",
    "\n",
    "\n"
   ]
  },
  {
   "cell_type": "markdown",
   "metadata": {},
   "source": [
    "### No Grading at This Point, Only feedback\n",
    "\n",
    "Remember you will not recieve a grade for P1, only feedback to get you going. Late or incomplete submissions will affect your grade. Consult the syllabus.\n",
    "\n",
    "\n",
    "When you are ready, turn in your P1 using the submission script."
   ]
  },
  {
   "cell_type": "code",
   "execution_count": null,
   "metadata": {},
   "outputs": [],
   "source": [
    "# run this code to turn in your work!\n",
    "from coursetools.submission import Submission\n",
    "Submission().submit()"
   ]
  },
  {
   "cell_type": "code",
   "execution_count": null,
   "metadata": {},
   "outputs": [],
   "source": []
  }
 ],
 "metadata": {
  "kernelspec": {
   "display_name": "Python 3",
   "language": "python",
   "name": "python3"
  },
  "language_info": {
   "codemirror_mode": {
    "name": "ipython",
    "version": 3
   },
   "file_extension": ".py",
   "mimetype": "text/x-python",
   "name": "python",
   "nbconvert_exporter": "python",
   "pygments_lexer": "ipython3",
   "version": "3.8.6"
  }
 },
 "nbformat": 4,
 "nbformat_minor": 4
}
